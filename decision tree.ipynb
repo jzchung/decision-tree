{
 "cells": [
  {
   "cell_type": "code",
   "execution_count": 1,
   "metadata": {},
   "outputs": [],
   "source": [
    "import pandas as pd\n",
    "import numpy as np\n",
    "import math"
   ]
  },
  {
   "cell_type": "code",
   "execution_count": 6,
   "metadata": {},
   "outputs": [],
   "source": [
    "#define class and node\n",
    "class node(): # object is required\n",
    "    def __init__(self, val): # self is required\n",
    "        self.val = val\n",
    "        self.child = None  # child should be a dtree series\n",
    "        self.link = None  # the link between parents and current node, represent label values here\n",
    "    def __str__(self):\n",
    "        return str(self.val)\n",
    "# decision tree\n",
    "class DTree():\n",
    "    def __init__(self, val): # value = label\n",
    "        self.root = node(val)\n",
    "    def add(self, child:\"node\", link:\"label\"): # child is a node\n",
    "        item = node(child)\n",
    "        if not self.root:\n",
    "            self.root = item # if there is no nodes in tree at all\n",
    "            self.link = None\n",
    "        else:\n",
    "            self.child.append(item)\n",
    "            self.lable = label\n",
    "\n",
    "    def addchild(self, children:\"list_of_node\", labels:\"list_of_label\"):        \n",
    "        for (child_item, label) in zip(children, labels):\n",
    "            self.add(child_item, label)\n",
    "    def setnode(self, val):\n",
    "        self.val = val\n",
    "    \n",
    "    def printTree():\n",
    "        pass\n",
    "    def getchild(self):\n",
    "        return self.child"
   ]
  },
  {
   "cell_type": "code",
   "execution_count": 7,
   "metadata": {},
   "outputs": [],
   "source": [
    "def calIG(data, fea):\n",
    "    #this function is designed to canculate the information gain of a specific feature to the dataset, dataset: sample,feature， fea: index of the feature\n",
    "    #calculate the empirical entropy of dataset d\n",
    "    sample = data.shape[0]\n",
    "    groups = data.groupby(df.iloc[-1])\n",
    "    hd = -sum(groups.count()/sample*np.log2(groups.count()/sample))\n",
    "    #calculate the coditional entropy hda\n",
    "    hda = -sum([sum(group.groupby(df.iloc[fea]).count()/group.count()*np.log2(group.groupby(df.iloc[fea]).count()/group.count())) for group in groups])\n",
    "    #calculate information gain\n",
    "    ig = hd - hda\n",
    "    return ig"
   ]
  },
  {
   "cell_type": "code",
   "execution_count": 8,
   "metadata": {},
   "outputs": [],
   "source": [
    "def calIGR(data, fea):\n",
    "    #calculate the information gain ratio\n",
    "    ig = calIG(data, fea)\n",
    "    groups = data.groupby(df.iloc[fea])\n",
    "    deno = -sum(groups.count()*np.log2(groups.count()))\n",
    "    igr = ig/deno\n",
    "    return igr"
   ]
  },
  {
   "cell_type": "code",
   "execution_count": 9,
   "metadata": {},
   "outputs": [],
   "source": [
    "def id3(data, features, epsilon):\n",
    "    # this is the id3 algorithm for decision tree\n",
    "    # case 1: if all samples belong to one class, that is ,there is only one label, return a single-node tree which root is the only label ck\n",
    "    labels = np.unique(data.iloc[-1])\n",
    "    if len(labels)==1:\n",
    "        return DTree(lables[0])\n",
    "    # case 2: if there is no feature, return a single-node tree which root is the max ck\n",
    "    if len(features)==0:\n",
    "        return DTree(max(data.iloc[-1]))\n",
    "    # case 3: normal case, calculate info gain of all features and choose the largest\n",
    "    igs = [calIG(data,fea) for fea in range(features)]\n",
    "    agval = max(igs)\n",
    "    if agval < epsilon:\n",
    "        return DTree(max(data.iloc[-1]))\n",
    "    else:\n",
    "        #split data according to values of features\n",
    "        agind = np.where(igs==agval)\n",
    "        dtree = DTree(features[agind])\n",
    "        feaval = np.unique(data.iloc[agind])\n",
    "        data_partition = data.groupby(data.iloc[agind])\n",
    "        for (value, dp) in zip(feaval, data_partition):\n",
    "            nodeType = max(data_partition.iloc[-1])\n",
    "            dtree.setnode(nodeType)  # construct tree node\n",
    "            newFeaSet = np.delete(features, agind)  # construct new feature set: fea - agind\n",
    "            dtree.add(id3(dp, newFeaSet, epsilon), value)\n",
    "        return dtree"
   ]
  },
  {
   "cell_type": "code",
   "execution_count": null,
   "metadata": {},
   "outputs": [],
   "source": [
    "# load data"
   ]
  }
 ],
 "metadata": {
  "kernelspec": {
   "display_name": "Python 3",
   "language": "python",
   "name": "python3"
  },
  "language_info": {
   "codemirror_mode": {
    "name": "ipython",
    "version": 3
   },
   "file_extension": ".py",
   "mimetype": "text/x-python",
   "name": "python",
   "nbconvert_exporter": "python",
   "pygments_lexer": "ipython3",
   "version": "3.7.7"
  }
 },
 "nbformat": 4,
 "nbformat_minor": 2
}
