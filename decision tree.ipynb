{
 "cells": [
  {
   "cell_type": "code",
   "execution_count": 2,
   "metadata": {},
   "outputs": [],
   "source": [
    "import pandas as pd\n",
    "import numpy as np\n",
    "import math"
   ]
  },
  {
   "cell_type": "code",
   "execution_count": 8,
   "metadata": {},
   "outputs": [],
   "source": [
    "#define class and node\n",
    "class node(): # object is required\n",
    "    def __init__(self, val): # self is required\n",
    "        self.val = val\n",
    "        self.child = None  # child should be a dtree series\n",
    "        self.link = None  # the link between parents and current node, represent label values here\n",
    "    def __str__(self):\n",
    "        return str(self.val)\n",
    "# decision tree\n",
    "class DTree():\n",
    "    def __init__(self, val): # value = label\n",
    "        self.root = node(val)\n",
    "    def add(self, child:\"node\", link:\"label\"): # child is a node\n",
    "        item = node(child)\n",
    "        if not self.root:\n",
    "            self.root = item # if there is no nodes in tree at all\n",
    "            self.link = None\n",
    "        else:\n",
    "            self.child.append(item)\n",
    "            self.lable = label\n",
    "\n",
    "    def addchild(self, children:\"list_of_node\", labels:\"list_of_label\"):        \n",
    "        for (child_item, label) in zip(children, labels):\n",
    "            self.add(child_item, label)\n",
    "    def setnode(self, val):\n",
    "        self.val = val\n",
    "    \n",
    "    def printTree():\n",
    "        pass\n",
    "    def getchild(self):\n",
    "        return self.child"
   ]
  },
  {
   "cell_type": "code",
   "execution_count": 336,
   "metadata": {},
   "outputs": [],
   "source": [
    "def calIG(data, fea):\n",
    "    #this function is designed to canculate the information gain of a specific feature to the dataset, dataset: sample,feature， fea: index of the feature\n",
    "    #calculate the empirical entropy of dataset d\n",
    "    sample = data.shape[0]\n",
    "    labels_len = len(np.unique(data[data.columns[-1]]))\n",
    "    groups = data.groupby(data.columns.values[-1])[data.columns.values[-1]]\n",
    "    hd = -sum(groups.count()/sample*np.log2(groups.count()/sample))\n",
    "    groups1 = data.groupby(data.columns.values[fea])[data.columns.values[fea]].count()\n",
    "    #calculate the coditional entropy hda\n",
    "    groups_fea = data.groupby(data.columns.values[[fea,-1]].tolist())[data.columns.values[-1]].count()\n",
    "    #iterate feature values\n",
    "    hda=0\n",
    "    for i in range(len(groups1)):\n",
    "        hdi=0\n",
    "        #calculate hdi\n",
    "        for j in range(labels_len):\n",
    "            try:\n",
    "                nums = groups_fea[i*labels_len+j]/groups1[i]\n",
    "                hdi -= nums*np.log2(nums)\n",
    "            except IndexError:\n",
    "                hdi -= 0\n",
    "        hda += groups1[i]/sample*hdi\n",
    "#     hda = -sum([sum(group.groupby(df.iloc[fea]).count()/group.count()*np.log2(group.groupby(df.iloc[fea]).count()/group.count())) for group in groups])\n",
    "#     print('hda:',hda)\n",
    "    #calculate information gain\n",
    "    ig = hd - hda\n",
    "#     print('ig:',ig)\n",
    "    return ig"
   ]
  },
  {
   "cell_type": "code",
   "execution_count": 9,
   "metadata": {},
   "outputs": [],
   "source": [
    "def calIGR(data, fea):\n",
    "    #calculate the information gain ratio\n",
    "    ig = calIG(data, fea)\n",
    "    groups = data.groupby(df.iloc[fea])\n",
    "    deno = -sum(groups.count()*np.log2(groups.count()))\n",
    "    igr = ig/deno\n",
    "    return igr"
   ]
  },
  {
   "cell_type": "code",
   "execution_count": 324,
   "metadata": {},
   "outputs": [],
   "source": [
    "def id3(data, features, epsilon):\n",
    "    # this is the id3 algorithm for decision tree\n",
    "    # case 1: if all samples belong to one class, that is ,there is only one label, return a single-node tree which root is the only label ck\n",
    "    labels = np.unique(data[data.columns[-1]])\n",
    "    if len(labels)==1:\n",
    "        return DTree(lables[0])\n",
    "    # case 2: if there is no feature, return a single-node tree which root is the max ck\n",
    "    if len(features)==0:\n",
    "        return DTree(max(data.iloc[-1]))\n",
    "    # case 3: normal case, calculate info gain of all features and choose the largest\n",
    "    igs = [calIG(data,features[fea]) for fea in range(len(features))]\n",
    "    agval = max(igs)\n",
    "    if agval < epsilon:\n",
    "        return DTree(max(data.iloc[-1]))\n",
    "    else:\n",
    "        #split data according to values of features\n",
    "        agind = np.where(igs==agval)\n",
    "        dtree = DTree(features[agind])\n",
    "        feaval = np.unique(data.iloc[agind])\n",
    "        data_partition = data.groupby(data.iloc[agind])\n",
    "        for (value, dp) in zip(feaval, data_partition):\n",
    "            nodeType = max(data_partition.iloc[-1])\n",
    "            dtree.setnode(nodeType)  # construct tree node\n",
    "            newFeaSet = np.delete(features, agind)  # construct new feature set: fea - agind\n",
    "            dtree.add(id3(dp, newFeaSet, epsilon), value)\n",
    "        return dtree"
   ]
  },
  {
   "cell_type": "code",
   "execution_count": 11,
   "metadata": {},
   "outputs": [],
   "source": [
    "def c45(data, features, epsilon):\n",
    "    # this is the id3 algorithm for decision tree\n",
    "    # case 1: if all samples belong to one class, that is ,there is only one label, return a single-node tree which root is the only label ck\n",
    "    labels = np.unique(data.iloc[-1])\n",
    "    if len(labels)==1:\n",
    "        return DTree(lables[0])\n",
    "    # case 2: if there is no feature, return a single-node tree which root is the max ck\n",
    "    if len(features)==0:\n",
    "        return DTree(max(data.iloc[-1]))\n",
    "    # case 3: normal case, calculate info gain of all features and choose the largest\n",
    "    igs = [calIGR(data,fea) for fea in range(features)]# ***************this only difference between id3 and c4.5*****************\n",
    "    agval = max(igs)\n",
    "    if agval < epsilon:\n",
    "        return DTree(max(data.iloc[-1]))\n",
    "    else:\n",
    "        #split data according to values of features\n",
    "        agind = np.where(igs==agval)\n",
    "        dtree = DTree(features[agind])\n",
    "        feaval = np.unique(data.iloc[agind])\n",
    "        data_partition = data.groupby(data.iloc[agind])\n",
    "        for (value, dp) in zip(feaval, data_partition):\n",
    "            nodeType = max(data_partition.iloc[-1])\n",
    "            dtree.setnode(nodeType)  # construct tree node\n",
    "            newFeaSet = np.delete(features, agind)  # construct new feature set: fea - agind\n",
    "            dtree.add(c45(dp, newFeaSet, epsilon), value)\n",
    "        return dtree"
   ]
  },
  {
   "cell_type": "code",
   "execution_count": 337,
   "metadata": {},
   "outputs": [
    {
     "ename": "TypeError",
     "evalue": "list indices must be integers or slices, not tuple",
     "output_type": "error",
     "traceback": [
      "\u001b[1;31m---------------------------------------------------------------------------\u001b[0m",
      "\u001b[1;31mTypeError\u001b[0m                                 Traceback (most recent call last)",
      "\u001b[1;32m<ipython-input-337-a4e71435977a>\u001b[0m in \u001b[0;36m<module>\u001b[1;34m\u001b[0m\n\u001b[0;32m      3\u001b[0m \u001b[0mtrain\u001b[0m \u001b[1;33m=\u001b[0m \u001b[0mtrain\u001b[0m\u001b[1;33m.\u001b[0m\u001b[0mdrop\u001b[0m\u001b[1;33m(\u001b[0m\u001b[1;33m[\u001b[0m\u001b[1;34m'ID'\u001b[0m\u001b[1;33m]\u001b[0m\u001b[1;33m,\u001b[0m\u001b[0maxis\u001b[0m\u001b[1;33m=\u001b[0m\u001b[1;36m1\u001b[0m\u001b[1;33m)\u001b[0m\u001b[1;33m\u001b[0m\u001b[1;33m\u001b[0m\u001b[0m\n\u001b[0;32m      4\u001b[0m \u001b[1;31m# print(train.groupby(['有房子','类别'])['类别'].count()[1])\u001b[0m\u001b[1;33m\u001b[0m\u001b[1;33m\u001b[0m\u001b[1;33m\u001b[0m\u001b[0m\n\u001b[1;32m----> 5\u001b[1;33m \u001b[0mdt\u001b[0m \u001b[1;33m=\u001b[0m \u001b[0mid3\u001b[0m\u001b[1;33m(\u001b[0m\u001b[0mtrain\u001b[0m\u001b[1;33m,\u001b[0m\u001b[1;33m[\u001b[0m\u001b[1;36m0\u001b[0m\u001b[1;33m,\u001b[0m\u001b[1;36m1\u001b[0m\u001b[1;33m,\u001b[0m\u001b[1;36m2\u001b[0m\u001b[1;33m,\u001b[0m\u001b[1;36m3\u001b[0m\u001b[1;33m]\u001b[0m\u001b[1;33m,\u001b[0m\u001b[1;36m0.1\u001b[0m\u001b[1;33m)\u001b[0m\u001b[1;33m\u001b[0m\u001b[1;33m\u001b[0m\u001b[0m\n\u001b[0m",
      "\u001b[1;32m<ipython-input-324-998cad3d3116>\u001b[0m in \u001b[0;36mid3\u001b[1;34m(data, features, epsilon)\u001b[0m\n\u001b[0;32m     16\u001b[0m         \u001b[1;31m#split data according to values of features\u001b[0m\u001b[1;33m\u001b[0m\u001b[1;33m\u001b[0m\u001b[1;33m\u001b[0m\u001b[0m\n\u001b[0;32m     17\u001b[0m         \u001b[0magind\u001b[0m \u001b[1;33m=\u001b[0m \u001b[0mnp\u001b[0m\u001b[1;33m.\u001b[0m\u001b[0mwhere\u001b[0m\u001b[1;33m(\u001b[0m\u001b[0migs\u001b[0m\u001b[1;33m==\u001b[0m\u001b[0magval\u001b[0m\u001b[1;33m)\u001b[0m\u001b[1;33m\u001b[0m\u001b[1;33m\u001b[0m\u001b[0m\n\u001b[1;32m---> 18\u001b[1;33m         \u001b[0mdtree\u001b[0m \u001b[1;33m=\u001b[0m \u001b[0mDTree\u001b[0m\u001b[1;33m(\u001b[0m\u001b[0mfeatures\u001b[0m\u001b[1;33m[\u001b[0m\u001b[0magind\u001b[0m\u001b[1;33m]\u001b[0m\u001b[1;33m)\u001b[0m\u001b[1;33m\u001b[0m\u001b[1;33m\u001b[0m\u001b[0m\n\u001b[0m\u001b[0;32m     19\u001b[0m         \u001b[0mfeaval\u001b[0m \u001b[1;33m=\u001b[0m \u001b[0mnp\u001b[0m\u001b[1;33m.\u001b[0m\u001b[0munique\u001b[0m\u001b[1;33m(\u001b[0m\u001b[0mdata\u001b[0m\u001b[1;33m.\u001b[0m\u001b[0miloc\u001b[0m\u001b[1;33m[\u001b[0m\u001b[0magind\u001b[0m\u001b[1;33m]\u001b[0m\u001b[1;33m)\u001b[0m\u001b[1;33m\u001b[0m\u001b[1;33m\u001b[0m\u001b[0m\n\u001b[0;32m     20\u001b[0m         \u001b[0mdata_partition\u001b[0m \u001b[1;33m=\u001b[0m \u001b[0mdata\u001b[0m\u001b[1;33m.\u001b[0m\u001b[0mgroupby\u001b[0m\u001b[1;33m(\u001b[0m\u001b[0mdata\u001b[0m\u001b[1;33m.\u001b[0m\u001b[0miloc\u001b[0m\u001b[1;33m[\u001b[0m\u001b[0magind\u001b[0m\u001b[1;33m]\u001b[0m\u001b[1;33m)\u001b[0m\u001b[1;33m\u001b[0m\u001b[1;33m\u001b[0m\u001b[0m\n",
      "\u001b[1;31mTypeError\u001b[0m: list indices must be integers or slices, not tuple"
     ]
    }
   ],
   "source": [
    "# load data\n",
    "train = pd.read_csv('./test1.csv')\n",
    "train = train.drop(['ID'],axis=1)\n",
    "# print(train.groupby(['有房子','类别'])['类别'].count()[1])\n",
    "dt = id3(train,[0,1,2,3],0.1)"
   ]
  },
  {
   "cell_type": "code",
   "execution_count": null,
   "metadata": {},
   "outputs": [],
   "source": []
  },
  {
   "cell_type": "code",
   "execution_count": null,
   "metadata": {},
   "outputs": [],
   "source": []
  }
 ],
 "metadata": {
  "kernelspec": {
   "display_name": "Python 3",
   "language": "python",
   "name": "python3"
  },
  "language_info": {
   "codemirror_mode": {
    "name": "ipython",
    "version": 3
   },
   "file_extension": ".py",
   "mimetype": "text/x-python",
   "name": "python",
   "nbconvert_exporter": "python",
   "pygments_lexer": "ipython3",
   "version": "3.7.7"
  }
 },
 "nbformat": 4,
 "nbformat_minor": 2
}
