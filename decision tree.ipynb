{
 "cells": [
  {
   "cell_type": "code",
   "execution_count": 3,
   "metadata": {},
   "outputs": [],
   "source": [
    "import pandas as pd\n",
    "import numpy as np\n",
    "import math"
   ]
  },
  {
   "cell_type": "code",
   "execution_count": 12,
   "metadata": {},
   "outputs": [],
   "source": [
    "#define class and node\n",
    "class node(): # object is required\n",
    "    def __init__(self, val:int): # self is required\n",
    "        self.val = val\n",
    "        self.child = None  # child should be a dtree series\n",
    "        self.link = None  # the link between parents and current node, represent label values here\n",
    "    def __str__(self):\n",
    "        return str(self.val)\n",
    "# decision tree\n",
    "class DTree():\n",
    "    def __init__(self, val): # value = label\n",
    "        self.root = node(val)\n",
    "    def add(self, child:\"node\", link:\"label\"): # child is a node\n",
    "        item = node(child)\n",
    "        if not self.root:\n",
    "            self.root = item # if there is no nodes in tree at all\n",
    "            self.link = None\n",
    "        else:\n",
    "            self.child.append(item)\n",
    "            self.lable = label\n",
    "\n",
    "    def addchild(self, children:\"list_of_node\", labels:\"list_of_label\"):        \n",
    "        for (child_item, label) in zip(children, labels):\n",
    "            self.add(child_item, label)\n",
    "    def setnode(self, val):\n",
    "        self.val = val\n",
    "    \n",
    "    def printTree():\n",
    "        pass\n",
    "    def getchild(self):\n",
    "        return self.child"
   ]
  },
  {
   "cell_type": "code",
   "execution_count": 83,
   "metadata": {},
   "outputs": [],
   "source": [
    "def calIG(data, fea:\"label name\"):\n",
    "    #this function is designed to canculate the information gain of a specific feature to the dataset, dataset: sample,feature， fea: index of the feature\n",
    "    #calculate the empirical entropy of dataset d\n",
    "    sample = data.shape[0]\n",
    "    label = data.columns.values[-1]\n",
    "    labels_len = len(np.unique(data[data.columns[-1]]))\n",
    "    groups = data.groupby(data.columns.values[-1])[data.columns.values[-1]]\n",
    "    hd = -sum(groups.count()/sample*np.log2(groups.count()/sample))\n",
    "    groups1 = data.groupby([fea])[fea].count()\n",
    "    #calculate the coditional entropy hda\n",
    "    groups_fea = data.groupby([fea,label])[label].count()\n",
    "    #iterate feature values\n",
    "    hda=0\n",
    "    for i in range(len(groups1)):\n",
    "        hdi=0\n",
    "        had=0 #for ig ratio\n",
    "        #calculate hdi\n",
    "        for j in range(labels_len):\n",
    "            try:\n",
    "                nums = groups_fea[i*labels_len+j]/groups1[i]\n",
    "                hdi -= nums*np.log2(nums)\n",
    "            except IndexError:\n",
    "                hdi -= 0\n",
    "        hda += groups1[i]/sample*hdi\n",
    "        had -= (groups1[i] / sample*np.log2(groups1[i] / sample))\n",
    "#     hda = -sum([sum(group.groupby(df.iloc[fea]).count()/group.count()*np.log2(group.groupby(df.iloc[fea]).count()/group.count())) for group in groups])\n",
    "#     print('hda:',hda)\n",
    "    #calculate information gain\n",
    "    ig = hd - hda\n",
    "    igr = ig / had\n",
    "    res = {'ig':ig, 'igr':igr}\n",
    "    return res"
   ]
  },
  {
   "cell_type": "code",
   "execution_count": 9,
   "metadata": {},
   "outputs": [],
   "source": [
    "def calIGR(data, fea):\n",
    "    #calculate the information gain ratio\n",
    "    ig = calIG(data, fea)\n",
    "    groups = data.groupby(df.iloc[fea])\n",
    "    deno = -sum(groups.count()*np.log2(groups.count()))\n",
    "    igr = ig/deno                                                     \n",
    "    return igr"
   ]
  },
  {
   "cell_type": "code",
   "execution_count": 115,
   "metadata": {},
   "outputs": [],
   "source": [
    "def id3(data, features, epsilon):\n",
    "    # this is the id3 algorithm for decision tree\n",
    "    # case 1: if all samples belong to one class, that is ,there is only one label, return a single-node tree which root is the only label ck\n",
    "    labels = np.unique(data[data.columns[-1]])\n",
    "    if len(labels)==1:\n",
    "        return DTree(lables[0])\n",
    "    # case 2: if there is no feature, return a single-node tree which root is the max ck\n",
    "    if len(features)==0:\n",
    "        return DTree(max(data.iloc[-1]))\n",
    "    # case 3: normal case, calculate info gain of all features and choose the largest\n",
    "    igs = [calIG(data,fea)['ig'] for fea in features]\n",
    "    agval = max(igs)\n",
    "    if agval < epsilon:\n",
    "        return DTree(max(data.iloc[-1]))\n",
    "    else:\n",
    "        #split data according to values of features\n",
    "        agind = np.where(igs==agval)\n",
    "        dtree = DTree(features[agind[0][0]])\n",
    "        feaval = np.unique(data.iloc[agind[0][0]])\n",
    "        data_partition = data.groupby(features[agind[0][0]])\n",
    "        print(data_partition.first())\n",
    "        for (value, dp) in zip(feaval, data_partition):\n",
    "            nodeType = max(data_partition.iloc[-1])\n",
    "            dtree.setnode(nodeType)  # construct tree node\n",
    "            newFeaSet = np.delete(features, agind)  # construct new feature set: fea - agind\n",
    "            dtree.add(id3(dp, newFeaSet, epsilon), value)\n",
    "        return dtree"
   ]
  },
  {
   "cell_type": "code",
   "execution_count": 112,
   "metadata": {},
   "outputs": [],
   "source": [
    "def c45(data, features, epsilon):\n",
    "    # this is the id3 algorithm for decision tree\n",
    "    # case 1: if all samples belong to one class, that is ,there is only one label, return a single-node tree which root is the only label ck\n",
    "    labels = np.unique(data.iloc[-1])\n",
    "    if len(labels)==1:\n",
    "        return DTree(lables[0])\n",
    "    # case 2: if there is no feature, return a single-node tree which root is the max ck\n",
    "    if len(features)==0:\n",
    "        return DTree(max(data.iloc[-1]))\n",
    "    # case 3: normal case, calculate info gain of all features and choose the largest\n",
    "    igs = [calIG(data,fea)['igr'] for fea in range(features)]# ***************this only difference between id3 and c4.5*****************\n",
    "    agval = max(igs)\n",
    "    if agval < epsilon:\n",
    "        return DTree(max(data.iloc[-1]))\n",
    "    else:\n",
    "        #split data according to values of features\n",
    "        agind = np.where(igs==agval)\n",
    "        dtree = DTree(features[agind])\n",
    "        feaval = np.unique(data.iloc[agind])\n",
    "        data_partition = data.groupby(data.iloc[agind])\n",
    "        for (value, dp) in zip(feaval, data_partition):\n",
    "            nodeType = max(data_partition.iloc[-1])\n",
    "            dtree.setnode(nodeType)  # construct tree node\n",
    "            newFeaSet = np.delete(features, agind)  # construct new feature set: fea - agind\n",
    "            dtree.add(c45(dp, newFeaSet, epsilon), value)\n",
    "        return dtree"
   ]
  },
  {
   "cell_type": "code",
   "execution_count": 116,
   "metadata": {},
   "outputs": [
    {
     "name": "stdout",
     "output_type": "stream",
     "text": [
      "['年龄' '有工作' '有房子' '信贷情况' '类别']\n",
      "     年龄 有工作 信贷情况 类别\n",
      "有房子                \n",
      "否    青年   否   一般  否\n",
      "是    青年   是   一般  是\n"
     ]
    },
    {
     "ename": "AttributeError",
     "evalue": "Cannot access callable attribute 'iloc' of 'DataFrameGroupBy' objects, try using the 'apply' method",
     "output_type": "error",
     "traceback": [
      "\u001b[1;31m---------------------------------------------------------------------------\u001b[0m",
      "\u001b[1;31mAttributeError\u001b[0m                            Traceback (most recent call last)",
      "\u001b[1;32m<ipython-input-116-ddbbe15e1385>\u001b[0m in \u001b[0;36m<module>\u001b[1;34m\u001b[0m\n\u001b[0;32m      4\u001b[0m \u001b[1;31m# print(train.groupby(['有房子','类别'])['类别'].count()[1])\u001b[0m\u001b[1;33m\u001b[0m\u001b[1;33m\u001b[0m\u001b[1;33m\u001b[0m\u001b[0m\n\u001b[0;32m      5\u001b[0m \u001b[0mprint\u001b[0m\u001b[1;33m(\u001b[0m\u001b[0mtrain\u001b[0m\u001b[1;33m.\u001b[0m\u001b[0mcolumns\u001b[0m\u001b[1;33m.\u001b[0m\u001b[0mvalues\u001b[0m\u001b[1;33m)\u001b[0m\u001b[1;33m\u001b[0m\u001b[1;33m\u001b[0m\u001b[0m\n\u001b[1;32m----> 6\u001b[1;33m \u001b[0mdt\u001b[0m \u001b[1;33m=\u001b[0m \u001b[0mid3\u001b[0m\u001b[1;33m(\u001b[0m\u001b[0mtrain\u001b[0m\u001b[1;33m,\u001b[0m\u001b[0mtrain\u001b[0m\u001b[1;33m.\u001b[0m\u001b[0mcolumns\u001b[0m\u001b[1;33m.\u001b[0m\u001b[0mvalues\u001b[0m\u001b[1;33m[\u001b[0m\u001b[1;36m0\u001b[0m\u001b[1;33m:\u001b[0m\u001b[1;33m-\u001b[0m\u001b[1;36m1\u001b[0m\u001b[1;33m]\u001b[0m\u001b[1;33m,\u001b[0m\u001b[1;36m0.1\u001b[0m\u001b[1;33m)\u001b[0m\u001b[1;33m\u001b[0m\u001b[1;33m\u001b[0m\u001b[0m\n\u001b[0m",
      "\u001b[1;32m<ipython-input-115-cc2f2b9b1feb>\u001b[0m in \u001b[0;36mid3\u001b[1;34m(data, features, epsilon)\u001b[0m\n\u001b[0;32m     21\u001b[0m         \u001b[0mprint\u001b[0m\u001b[1;33m(\u001b[0m\u001b[0mdata_partition\u001b[0m\u001b[1;33m.\u001b[0m\u001b[0mfirst\u001b[0m\u001b[1;33m(\u001b[0m\u001b[1;33m)\u001b[0m\u001b[1;33m)\u001b[0m\u001b[1;33m\u001b[0m\u001b[1;33m\u001b[0m\u001b[0m\n\u001b[0;32m     22\u001b[0m         \u001b[1;32mfor\u001b[0m \u001b[1;33m(\u001b[0m\u001b[0mvalue\u001b[0m\u001b[1;33m,\u001b[0m \u001b[0mdp\u001b[0m\u001b[1;33m)\u001b[0m \u001b[1;32min\u001b[0m \u001b[0mzip\u001b[0m\u001b[1;33m(\u001b[0m\u001b[0mfeaval\u001b[0m\u001b[1;33m,\u001b[0m \u001b[0mdata_partition\u001b[0m\u001b[1;33m)\u001b[0m\u001b[1;33m:\u001b[0m\u001b[1;33m\u001b[0m\u001b[1;33m\u001b[0m\u001b[0m\n\u001b[1;32m---> 23\u001b[1;33m             \u001b[0mnodeType\u001b[0m \u001b[1;33m=\u001b[0m \u001b[0mmax\u001b[0m\u001b[1;33m(\u001b[0m\u001b[0mdata_partition\u001b[0m\u001b[1;33m.\u001b[0m\u001b[0miloc\u001b[0m\u001b[1;33m[\u001b[0m\u001b[1;33m-\u001b[0m\u001b[1;36m1\u001b[0m\u001b[1;33m]\u001b[0m\u001b[1;33m)\u001b[0m\u001b[1;33m\u001b[0m\u001b[1;33m\u001b[0m\u001b[0m\n\u001b[0m\u001b[0;32m     24\u001b[0m             \u001b[0mdtree\u001b[0m\u001b[1;33m.\u001b[0m\u001b[0msetnode\u001b[0m\u001b[1;33m(\u001b[0m\u001b[0mnodeType\u001b[0m\u001b[1;33m)\u001b[0m  \u001b[1;31m# construct tree node\u001b[0m\u001b[1;33m\u001b[0m\u001b[1;33m\u001b[0m\u001b[0m\n\u001b[0;32m     25\u001b[0m             \u001b[0mnewFeaSet\u001b[0m \u001b[1;33m=\u001b[0m \u001b[0mnp\u001b[0m\u001b[1;33m.\u001b[0m\u001b[0mdelete\u001b[0m\u001b[1;33m(\u001b[0m\u001b[0mfeatures\u001b[0m\u001b[1;33m,\u001b[0m \u001b[0magind\u001b[0m\u001b[1;33m)\u001b[0m  \u001b[1;31m# construct new feature set: fea - agind\u001b[0m\u001b[1;33m\u001b[0m\u001b[1;33m\u001b[0m\u001b[0m\n",
      "\u001b[1;32mD:\\Anaconda3\\lib\\site-packages\\pandas\\core\\groupby\\groupby.py\u001b[0m in \u001b[0;36m__getattr__\u001b[1;34m(self, attr)\u001b[0m\n\u001b[0;32m    531\u001b[0m             \u001b[1;32mreturn\u001b[0m \u001b[0mself\u001b[0m\u001b[1;33m[\u001b[0m\u001b[0mattr\u001b[0m\u001b[1;33m]\u001b[0m\u001b[1;33m\u001b[0m\u001b[1;33m\u001b[0m\u001b[0m\n\u001b[0;32m    532\u001b[0m         \u001b[1;32mif\u001b[0m \u001b[0mhasattr\u001b[0m\u001b[1;33m(\u001b[0m\u001b[0mself\u001b[0m\u001b[1;33m.\u001b[0m\u001b[0mobj\u001b[0m\u001b[1;33m,\u001b[0m \u001b[0mattr\u001b[0m\u001b[1;33m)\u001b[0m\u001b[1;33m:\u001b[0m\u001b[1;33m\u001b[0m\u001b[1;33m\u001b[0m\u001b[0m\n\u001b[1;32m--> 533\u001b[1;33m             \u001b[1;32mreturn\u001b[0m \u001b[0mself\u001b[0m\u001b[1;33m.\u001b[0m\u001b[0m_make_wrapper\u001b[0m\u001b[1;33m(\u001b[0m\u001b[0mattr\u001b[0m\u001b[1;33m)\u001b[0m\u001b[1;33m\u001b[0m\u001b[1;33m\u001b[0m\u001b[0m\n\u001b[0m\u001b[0;32m    534\u001b[0m \u001b[1;33m\u001b[0m\u001b[0m\n\u001b[0;32m    535\u001b[0m         raise AttributeError(\"%r object has no attribute %r\" %\n",
      "\u001b[1;32mD:\\Anaconda3\\lib\\site-packages\\pandas\\core\\groupby\\groupby.py\u001b[0m in \u001b[0;36m_make_wrapper\u001b[1;34m(self, name)\u001b[0m\n\u001b[0;32m    568\u001b[0m                    \"using the 'apply' method\".format(kind, name,\n\u001b[0;32m    569\u001b[0m                                                      type(self).__name__))\n\u001b[1;32m--> 570\u001b[1;33m             \u001b[1;32mraise\u001b[0m \u001b[0mAttributeError\u001b[0m\u001b[1;33m(\u001b[0m\u001b[0mmsg\u001b[0m\u001b[1;33m)\u001b[0m\u001b[1;33m\u001b[0m\u001b[1;33m\u001b[0m\u001b[0m\n\u001b[0m\u001b[0;32m    571\u001b[0m \u001b[1;33m\u001b[0m\u001b[0m\n\u001b[0;32m    572\u001b[0m         \u001b[0mself\u001b[0m\u001b[1;33m.\u001b[0m\u001b[0m_set_group_selection\u001b[0m\u001b[1;33m(\u001b[0m\u001b[1;33m)\u001b[0m\u001b[1;33m\u001b[0m\u001b[1;33m\u001b[0m\u001b[0m\n",
      "\u001b[1;31mAttributeError\u001b[0m: Cannot access callable attribute 'iloc' of 'DataFrameGroupBy' objects, try using the 'apply' method"
     ]
    }
   ],
   "source": [
    "# load data\n",
    "train = pd.read_csv('./test1.csv')\n",
    "train = train.drop(['ID'],axis=1)\n",
    "# print(train.groupby(['有房子','类别'])['类别'].count()[1])\n",
    "print(train.columns.values)\n",
    "dt = id3(train,train.columns.values[0:-1],0.1)"
   ]
  },
  {
   "cell_type": "code",
   "execution_count": null,
   "metadata": {},
   "outputs": [],
   "source": []
  }
 ],
 "metadata": {
  "kernelspec": {
   "display_name": "Python 3",
   "language": "python",
   "name": "python3"
  },
  "language_info": {
   "codemirror_mode": {
    "name": "ipython",
    "version": 3
   },
   "file_extension": ".py",
   "mimetype": "text/x-python",
   "name": "python",
   "nbconvert_exporter": "python",
   "pygments_lexer": "ipython3",
   "version": "3.7.7"
  }
 },
 "nbformat": 4,
 "nbformat_minor": 2
}
