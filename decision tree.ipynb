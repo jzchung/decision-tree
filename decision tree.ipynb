{
 "cells": [
  {
   "cell_type": "code",
   "execution_count": null,
   "metadata": {},
   "outputs": [],
   "source": [
    "import pandas as pd\n",
    "import numpy as np\n",
    "import math"
   ]
  },
  {
   "cell_type": "code",
   "execution_count": null,
   "metadata": {},
   "outputs": [],
   "source": [
    "#define class and node\n",
    "class node(Object): # object is required\n",
    "    def __init__(self, val): # self is required\n",
    "        self.val = val\n",
    "        self.child = None  # child should be a node series\n",
    "    def __str__(self):\n",
    "        return str(self.val)\n",
    "# decision tree\n",
    "class Tree(Object):\n",
    "    def __init__(self, val): # value = label\n",
    "        self.root = node(val)\n",
    "    def add(self, child:node): # child is a node\n",
    "        item = node(child)\n",
    "        if not self.root:\n",
    "            self.root = item # if there is no nodes in tree at all\n",
    "        else:\n",
    "            self.child.append(child)\n",
    "\n",
    "    def addchild(self, children:listofnode):        \n",
    "        for child_item in children:\n",
    "            self.add(child_item)\n",
    "    \n",
    "    def getchild(self):\n",
    "        return self.child"
   ]
  },
  {
   "cell_type": "code",
   "execution_count": 1,
   "metadata": {},
   "outputs": [],
   "source": [
    "def calIG(data, fea):\n",
    "    #this function is designed to canculate the information gain of a specific feature to the dataset, dataset: sample,feature， fea: index of the feature\n",
    "    #calculate the empirical entropy of dataset d\n",
    "    sample = data.shape[0]\n",
    "    groups = data.groupby(df.iloc[-1])\n",
    "    hd = -sum(groups.count()/sample*np.log2(groups.count()/sample))\n",
    "    #calculate the coditional entropy hda\n",
    "    hda = -sum([sum(group.groupby(df.iloc[fea]).count()/group.count()*np.log2(group.groupby(df.iloc[fea]).count()/group.count())) for group in groups])\n",
    "    #calculate information gain\n",
    "    ig = hd - hda\n",
    "    return ig"
   ]
  },
  {
   "cell_type": "code",
   "execution_count": null,
   "metadata": {},
   "outputs": [],
   "source": [
    "def calIGR(data, fea):\n",
    "    #calculate the information gain ratio\n",
    "    ig = calIG(data, fea)\n",
    "    groups = data.groupby(df.iloc[fea])\n",
    "    deno = -sum(groups.count()*np.log2(groups.count()))\n",
    "    igr = ig/deno\n",
    "    return igr"
   ]
  },
  {
   "cell_type": "code",
   "execution_count": null,
   "metadata": {},
   "outputs": [],
   "source": [
    "def id3(data, features, epsilon):\n",
    "    # this is the id3 algorithm for decision tree\n",
    "    # case 1: if all samples belong to one class, that is ,there is only one label, return a single-node tree which root is the only label ck\n",
    "    labels = np.unique(data.iloc[-1])\n",
    "    if len(labels)==1:\n",
    "        return Tree(lables[0])\n",
    "    # case 2: if there is no feature, return a single-node tree which root is the max ck\n",
    "    if len(features)==0:\n",
    "        return Tree(max(data.iloc[-1]))\n",
    "    # case 3: normal case\n",
    "    pass"
   ]
  }
 ],
 "metadata": {
  "kernelspec": {
   "display_name": "Python 3",
   "language": "python",
   "name": "python3"
  },
  "language_info": {
   "codemirror_mode": {
    "name": "ipython",
    "version": 3
   },
   "file_extension": ".py",
   "mimetype": "text/x-python",
   "name": "python",
   "nbconvert_exporter": "python",
   "pygments_lexer": "ipython3",
   "version": "3.7.7"
  }
 },
 "nbformat": 4,
 "nbformat_minor": 2
}
